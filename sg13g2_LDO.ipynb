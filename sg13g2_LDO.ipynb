{
  "nbformat": 4,
  "nbformat_minor": 0,
  "metadata": {
    "colab": {
      "provenance": [],
      "authorship_tag": "ABX9TyMH19+uaAXefheg4I326D/s",
      "include_colab_link": true
    },
    "kernelspec": {
      "name": "python3",
      "display_name": "Python 3"
    },
    "language_info": {
      "name": "python"
    }
  },
  "cells": [
    {
      "cell_type": "markdown",
      "metadata": {
        "id": "view-in-github",
        "colab_type": "text"
      },
      "source": [
        "<a href=\"https://colab.research.google.com/github/AwkwaBear/EE-628/blob/main/sg13g2_LDO.ipynb\" target=\"_parent\"><img src=\"https://colab.research.google.com/assets/colab-badge.svg\" alt=\"Open In Colab\"/></a>"
      ]
    },
    {
      "cell_type": "markdown",
      "source": [
        "# Design and Optimization of Analog LDO Using sg13g2 PDK with Relational Graph Neural Network and Reinforcement Learning"
      ],
      "metadata": {
        "id": "0vPhA614yyIU"
      }
    },
    {
      "cell_type": "markdown",
      "source": [
        "\n",
        "|Name|\n",
        "|:--:|\n",
        "|Vikas Shukla |\n",
        "|Zion McDowell|\n",
        "|Jie Zhao|\n",
        "|Anthony Gasbarro|\n"
      ],
      "metadata": {
        "id": "M9MgvYMUzE-P"
      }
    },
    {
      "cell_type": "markdown",
      "metadata": {
        "id": "kvQ5MuoB35Z2"
      },
      "source": [
        "### Install dependencies"
      ]
    },
    {
      "cell_type": "markdown",
      "source": [
        "## First we follow a modified version of the [Dockerfile](https://github.com/iic-jku/IIC-OSIC-TOOLS/blob/main/_build/Dockerfile) build Script from the [IIC-OSIC-Tools Github Page](https://github.com/iic-jku/IIC-OSIC-TOOLS/tree/main)\n",
        "\n",
        "This script is adapted one section at a time to the Google Colab environment's syntax"
      ],
      "metadata": {
        "id": "J-QRSq4hy3EU"
      }
    },
    {
      "cell_type": "code",
      "source": [
        "import os\n",
        "\n",
        "#######################################################################\n",
        "# Setup base image\n",
        "#######################################################################\n",
        "\n",
        "# Set environment variables\n",
        "os.environ['DEBIAN_FRONTEND'] = 'noninteractive'\n",
        "os.environ['TZ'] = 'Pacific/Honolulu'\n",
        "os.environ['LC_ALL'] = 'en_US.UTF-8'\n",
        "os.environ['LANG'] = 'en_US.UTF-8'\n",
        "os.environ['TOOLS'] = '/foss/tools'\n",
        "os.environ['PDK_ROOT'] = '/foss/pdks'\n",
        "os.environ['DESIGNS'] = '/foss/designs'\n",
        "os.environ['EXAMPLES'] = '/foss/examples'\n",
        "\n",
        "# Create directories\n",
        "!mkdir -p \"$TOOLS\" \"$PDK_ROOT\" \"$DESIGNS\" \"$EXAMPLES\"\n",
        "\n",
        "#######################################################################\n",
        "# Add base packages (install via pip, npm, or gem)\n",
        "#######################################################################\n"
      ],
      "metadata": {
        "id": "8Y47CgNry2dG"
      },
      "execution_count": 5,
      "outputs": []
    },
    {
      "cell_type": "markdown",
      "source": [
        "- sg13g2 [Process Development Kit]\n",
        "- Ngspice [Circuit Simulation Tool]\n",
        "- Conda [Python Development Virtual Environment]\n",
        "- Pytorch [Machine Learning Framework]\n",
        "- PyG [Graph Neural Network Library]\n",
        "- Tabulate [Data Table Export Interface Library]\n",
        "\n",
        "Note: that after the installation of these packages, **you may need to restart the runtime to use these newly installed packages**."
      ],
      "metadata": {
        "id": "RJdfU6rOgcHO"
      }
    },
    {
      "cell_type": "code",
      "execution_count": 1,
      "metadata": {
        "colab": {
          "base_uri": "https://localhost:8080/"
        },
        "id": "IEkivK7Wlgm_",
        "outputId": "4d96ba29-eb79-4516-8963-98de5f41b2a7"
      },
      "outputs": [
        {
          "output_type": "stream",
          "name": "stdout",
          "text": [
            "Collecting condacolab\n",
            "  Downloading condacolab-0.1.9-py3-none-any.whl.metadata (5.6 kB)\n",
            "Downloading condacolab-0.1.9-py3-none-any.whl (7.2 kB)\n",
            "Installing collected packages: condacolab\n",
            "Successfully installed condacolab-0.1.9\n",
            "\u001b[33mWARNING: Running pip as the 'root' user can result in broken permissions and conflicting behaviour with the system package manager. It is recommended to use a virtual environment instead: https://pip.pypa.io/warnings/venv\u001b[0m\u001b[33m\n",
            "\u001b[0m✨🍰✨ Everything looks OK!\n"
          ]
        }
      ],
      "source": [
        "import os\n",
        "\n",
        "# install conda.\n",
        "CONDA_PREFIX = os.environ.get('CONDA_PREFIX', None)\n",
        "if not CONDA_PREFIX:\n",
        "  !python -m pip install condacolab\n",
        "  import condacolab\n",
        "  condacolab.install()\n",
        "\n"
      ]
    },
    {
      "cell_type": "markdown",
      "source": [
        "## Install PDK and Simulation Tools"
      ],
      "metadata": {
        "id": "R2KhvsBQKO9D"
      }
    },
    {
      "cell_type": "markdown",
      "source": [
        "### Install OpenVaf (Verilog-A Compiler)"
      ],
      "metadata": {
        "id": "fs76KUxkUCl5"
      }
    },
    {
      "cell_type": "code",
      "source": [
        "# Define necessary variables\n",
        "OPENVAF_REPO_URL = \"https://github.com/path/to/openvaf/repo.git\"\n",
        "OPENVAF_REPO_COMMIT = \"commit_hash_here\"\n",
        "OPENVAF_NAME = \"openvaf\"\n",
        "TOOLS = \"/content/tools\"  # Example tools directory\n",
        "\n",
        "import os\n",
        "\n",
        "# Ensure cargo and necessary Rust components are installed\n",
        "# This step assumes LLVM 15 or 16 is already installed. If not, you might need to install it.\n",
        "!curl --proto '=https' --tlsv1.2 -sSf https://sh.rustup.rs | sh\n",
        "!source $HOME/.cargo/env\n",
        "\n",
        "# Clone the repository with the specified commit\n",
        "REPO_COMMIT_SHORT = OPENVAF_REPO_COMMIT[:7]\n",
        "\n",
        "!git clone --filter=blob:none \"{OPENVAF_REPO_URL}\" \"{OPENVAF_NAME}\"\n",
        "%cd \"{OPENVAF_NAME}\"\n",
        "!git checkout \"{OPENVAF_REPO_COMMIT}\"\n",
        "\n",
        "# Apply the patch\n",
        "patch_content = \"\"\"\n",
        "diff --git a/openvaf/target/build.rs b/openvaf/target/build.rs\n",
        "index 13db6e5..dada68e 100644\n",
        "--- a/openvaf/target/build.rs\n",
        "+++ b/openvaf/target/build.rs\n",
        "@@ -36,7 +36,7 @@ fn gen_msvcrt_importlib(sh: &Shell, arch: &str, target: &str, check: bool) {\n",
        "     let ucrt_obj = out_dir.join(format!(\"ucrt_{arch}.obj\"));\n",
        "     cmd!(\n",
        "         sh,\n",
        "-        \"clang-cl /c /Zl /GS- /clang:--target={target}-pc-windows-msvc /clang:-o{ucrt_obj} {ucrt_src}\"\n",
        "+        \"clang -c -fno-autolink -fno-stack-protector --target={target}-pc-windows-msvc -o{ucrt_obj} {ucrt_src}\"\n",
        "     )\n",
        "     .run()\n",
        "     .expect(\"ucrt compilation succeeds\");\n",
        "\"\"\"\n",
        "\n",
        "!echo \"{patch_content}\" > /tmp/openvaf_patch.diff\n",
        "!patch -p1 < /tmp/openvaf_patch.diff\n",
        "\n",
        "# Build using cargo\n",
        "!cargo build --release --bin openvaf\n",
        "\n",
        "# Copy the built binary to the specified location\n",
        "target_dir = f\"{TOOLS}/{OPENVAF_NAME}/{REPO_COMMIT_SHORT}/bin\"\n",
        "!mkdir -p \"{target_dir}\"\n",
        "!cp target/release/openvaf \"{target_dir}\""
      ],
      "metadata": {
        "id": "tfI5P_HZUFPx",
        "outputId": "7dddfaba-d658-4449-be86-c7b302f16751",
        "colab": {
          "base_uri": "https://localhost:8080/"
        }
      },
      "execution_count": 4,
      "outputs": [
        {
          "output_type": "stream",
          "name": "stdout",
          "text": [
            "curl: /usr/local/lib/libcurl.so.4: no version information available (required by curl)\n",
            "\u001b[1minfo:\u001b[0m downloading installer\n",
            "curl: /usr/local/lib/libcurl.so.4: no version information available (required by curl)\n",
            "curl: /usr/local/lib/libcurl.so.4: no version information available (required by curl)\n",
            "curl: /usr/local/lib/libcurl.so.4: no version information available (required by curl)\n",
            "curl: /usr/local/lib/libcurl.so.4: no version information available (required by curl)\n",
            "curl: /usr/local/lib/libcurl.so.4: no version information available (required by curl)\n",
            "curl: /usr/local/lib/libcurl.so.4: no version information available (required by curl)\n",
            "curl: /usr/local/lib/libcurl.so.4: no version information available (required by curl)\n",
            "curl: /usr/local/lib/libcurl.so.4: no version information available (required by curl)\n",
            "curl: /usr/local/lib/libcurl.so.4: no version information available (required by curl)\n",
            "curl: /usr/local/lib/libcurl.so.4: no version information available (required by curl)\n",
            "sh: 172: cannot open /dev/tty: No such device or address\n",
            "/bin/bash: line 1: /root/.cargo/env: No such file or directory\n",
            "Cloning into 'openvaf'...\n",
            "remote: Not Found\n",
            "fatal: repository 'https://github.com/path/to/openvaf/repo.git/' not found\n",
            "[Errno 2] No such file or directory: 'openvaf'\n",
            "/tmp/ihp\n",
            "error: pathspec 'commit_hash_here' did not match any file(s) known to git\n",
            "can't find file to patch at input line 6\n",
            "Perhaps you used the wrong -p or --strip option?\n",
            "The text leading up to this was:\n",
            "--------------------------\n",
            "|\n",
            "|diff --git a/openvaf/target/build.rs b/openvaf/target/build.rs\n",
            "|index 13db6e5..dada68e 100644\n",
            "|--- a/openvaf/target/build.rs\n",
            "|+++ b/openvaf/target/build.rs\n",
            "--------------------------\n",
            "File to patch: \n",
            "Skip this patch? [y] \n",
            "Skipping patch.\n",
            "1 out of 1 hunk ignored\n",
            "/bin/bash: line 1: cargo: command not found\n",
            "cp: cannot stat 'target/release/openvaf': No such file or directory\n"
          ]
        }
      ]
    },
    {
      "cell_type": "code",
      "source": [
        "# install sg13g2\n",
        "import os\n",
        "\n",
        "# Assuming PDK_ROOT and TOOLS are already set in your environment, if not, set them here\n",
        "os.environ['PDK_ROOT'] = '/content/foss/pdks'  # Example path, adjust as needed\n",
        "os.environ['TOOLS'] = '/content/tools'  # Example path, adjust as needed\n",
        "os.environ['OPENVAF_NAME'] = 'openvaf'  # Adjust according to your setup\n",
        "\n",
        "# Install IHP-SG13G2\n",
        "!mkdir -p \"$PDK_ROOT\"\n",
        "\n",
        "IHP_PDK=\"ihp-sg13g2\"\n",
        "MY_PDK=\"sg13g2\"\n",
        "\n",
        "# Cloning the IHP Open PDK\n",
        "!cd /tmp && git clone https://github.com/IHP-GmbH/IHP-Open-PDK.git ihp\n",
        "%cd /tmp/ihp\n",
        "!git checkout dev\n",
        "\n",
        "# Modifying .sch files\n",
        "!find . -name \"*.sch\" -exec sed -i '/pre_osdi/d' {} \\;\n",
        "\n",
        "# Moving the PDK to the desired location\n",
        "if os.path.isdir(f\"/tmp/ihp/{IHP_PDK}\"):\n",
        "  !mv /tmp/ihp/{IHP_PDK} \"$PDK_ROOT/$MY_PDK\"\n",
        "\n",
        "# Compile .va models\n",
        "%cd \"$PDK_ROOT/$MY_PDK/libs.tech/ngspice/openvaf\"\n",
        "OPENVAF_VERSION = os.listdir(f\"{os.environ['TOOLS']}/{os.environ['OPENVAF_NAME']}\")[0]\n",
        "!{os.environ['TOOLS']}/{os.environ['OPENVAF_NAME']}/{OPENVAF_VERSION}/bin/openvaf psp103_nqs.va\n",
        "\n",
        "# install ngspice\n",
        "# !conda install -c conda-forge ngspice"
      ],
      "metadata": {
        "id": "r1RsgBEwKNHH",
        "outputId": "f6c346cc-784e-4660-eed3-9fedb53b5f0e",
        "colab": {
          "base_uri": "https://localhost:8080/",
          "height": 487
        }
      },
      "execution_count": 2,
      "outputs": [
        {
          "output_type": "stream",
          "name": "stdout",
          "text": [
            "Cloning into 'ihp'...\n",
            "remote: Enumerating objects: 4854, done.\u001b[K\n",
            "remote: Counting objects: 100% (1272/1272), done.\u001b[K\n",
            "remote: Compressing objects: 100% (538/538), done.\u001b[K\n",
            "remote: Total 4854 (delta 745), reused 1137 (delta 695), pack-reused 3582\u001b[K\n",
            "Receiving objects: 100% (4854/4854), 315.08 MiB | 19.66 MiB/s, done.\n",
            "Resolving deltas: 100% (2118/2118), done.\n",
            "Updating files: 100% (3788/3788), done.\n",
            "/tmp/ihp\n",
            "Branch 'dev' set up to track remote branch 'dev' from 'origin'.\n",
            "Switched to a new branch 'dev'\n",
            "mv: cannot stat '/tmp/ihp/{IHP_PDK}': No such file or directory\n",
            "[Errno 2] No such file or directory: '$PDK_ROOT/$MY_PDK/libs.tech/ngspice/openvaf'\n",
            "/tmp/ihp\n"
          ]
        },
        {
          "output_type": "error",
          "ename": "FileNotFoundError",
          "evalue": "[Errno 2] No such file or directory: '/content/tools/openvaf'",
          "traceback": [
            "\u001b[0;31m---------------------------------------------------------------------------\u001b[0m",
            "\u001b[0;31mFileNotFoundError\u001b[0m                         Traceback (most recent call last)",
            "\u001b[0;32m<ipython-input-2-9a5bc2de7999>\u001b[0m in \u001b[0;36m<cell line: 29>\u001b[0;34m()\u001b[0m\n\u001b[1;32m     27\u001b[0m \u001b[0;31m# Compile .va models\u001b[0m\u001b[0;34m\u001b[0m\u001b[0;34m\u001b[0m\u001b[0m\n\u001b[1;32m     28\u001b[0m \u001b[0mget_ipython\u001b[0m\u001b[0;34m(\u001b[0m\u001b[0;34m)\u001b[0m\u001b[0;34m.\u001b[0m\u001b[0mrun_line_magic\u001b[0m\u001b[0;34m(\u001b[0m\u001b[0;34m'cd'\u001b[0m\u001b[0;34m,\u001b[0m \u001b[0;34m'\"$PDK_ROOT/$MY_PDK/libs.tech/ngspice/openvaf\"'\u001b[0m\u001b[0;34m)\u001b[0m\u001b[0;34m\u001b[0m\u001b[0;34m\u001b[0m\u001b[0m\n\u001b[0;32m---> 29\u001b[0;31m \u001b[0mOPENVAF_VERSION\u001b[0m \u001b[0;34m=\u001b[0m \u001b[0mos\u001b[0m\u001b[0;34m.\u001b[0m\u001b[0mlistdir\u001b[0m\u001b[0;34m(\u001b[0m\u001b[0;34mf\"{os.environ['TOOLS']}/{os.environ['OPENVAF_NAME']}\"\u001b[0m\u001b[0;34m)\u001b[0m\u001b[0;34m[\u001b[0m\u001b[0;36m0\u001b[0m\u001b[0;34m]\u001b[0m\u001b[0;34m\u001b[0m\u001b[0;34m\u001b[0m\u001b[0m\n\u001b[0m\u001b[1;32m     30\u001b[0m \u001b[0mget_ipython\u001b[0m\u001b[0;34m(\u001b[0m\u001b[0;34m)\u001b[0m\u001b[0;34m.\u001b[0m\u001b[0msystem\u001b[0m\u001b[0;34m(\u001b[0m\u001b[0;34m\"{os.environ['TOOLS']}/{os.environ['OPENVAF_NAME']}/{OPENVAF_VERSION}/bin/openvaf psp103_nqs.va\"\u001b[0m\u001b[0;34m)\u001b[0m\u001b[0;34m\u001b[0m\u001b[0;34m\u001b[0m\u001b[0m\n\u001b[1;32m     31\u001b[0m \u001b[0;34m\u001b[0m\u001b[0m\n",
            "\u001b[0;31mFileNotFoundError\u001b[0m: [Errno 2] No such file or directory: '/content/tools/openvaf'"
          ]
        }
      ]
    },
    {
      "cell_type": "markdown",
      "source": [
        "## Install Other Python Tools"
      ],
      "metadata": {
        "id": "XWeG0URIKGh4"
      }
    },
    {
      "cell_type": "code",
      "source": [
        "\n",
        "\n",
        "# Install Pytorch with cpu-only option.\n",
        "!conda install pytorch==1.13.1 torchvision==0.14.1 torchaudio==0.13.1 cpuonly -c pytorch\n",
        "\n",
        "# Check the version of Python (should be larger than 3.7) and Pytorch.\n",
        "import torch\n",
        "import sys\n",
        "print(\"Python version\")\n",
        "print (sys.version)\n",
        "\n",
        "!python -c \"import torch; print(torch.__version__)\"\n",
        "!python -c \"import torch; print(torch.version.cuda)\"\n",
        "\n",
        "# Install PyG to enable graph neural networks. We need to manually guide Colab to install the correct version of PyG based on which Pytorch version we have installed\n",
        "# (https://colab.research.google.com/drive/17VFsRZeZa7rgtrQ39-RMiYIE0ePrSlgN?authuser=1#scrollTo=rFwf_0DrvXLv). In this case it is 1.13.1 with cpu-only option.\n",
        "!pip install torch-scatter -f https://pytorch-geometric.com/whl/torch-1.13.1+cpu.html\n",
        "!pip install torch-sparse -f https://pytorch-geometric.com/whl/torch-1.13.1+cpu.html\n",
        "!pip install torch-cluster -f https://pytorch-geometric.com/whl/torch-1.13.1+cpu.html\n",
        "!pip install torch-spline-conv -f https://pytorch-geometric.com/whl/torch-1.13.1+cpu.html\n",
        "!pip install torch-geometric\n",
        "\n",
        "# Check the version of PyG.\n",
        "import torch_geometric\n",
        "print(torch_geometric.__version__)\n",
        "\n",
        "# Install Gymnasium for the RL environment.\n",
        "!pip install gymnasium\n",
        "\n",
        "# Check Gymnasium version.\n",
        "import gymnasium as gym\n",
        "print(gym.__version__)\n",
        "\n",
        "# Install tabulate for showing simulation results nicely during the runtime later.\n",
        "!pip install tabulate\n",
        "\n",
        "# Similarly, check tabulate version.\n",
        "import tabulate\n",
        "print(tabulate.__version__)"
      ],
      "metadata": {
        "id": "PNYKg7-JKD24"
      },
      "execution_count": null,
      "outputs": []
    },
    {
      "cell_type": "markdown",
      "source": [
        "### Setting up g13g2 circuit simulation environment\n"
      ],
      "metadata": {
        "id": "hCnvTJ74z0Fo"
      }
    },
    {
      "cell_type": "markdown",
      "source": [
        "Create some directory to organize files."
      ],
      "metadata": {
        "id": "gLhXdlSCkVjC"
      }
    },
    {
      "cell_type": "code",
      "source": [
        "!mkdir sg13g2_ldo\n",
        "!mkdir sg13g2_ldo/simulations\n",
        "!mkdir sg13g2_ldo/saved_weights\n",
        "!mkdir sg13g2_ldo/saved_memories"
      ],
      "metadata": {
        "id": "MEgAylLGz_vY"
      },
      "execution_count": null,
      "outputs": []
    },
    {
      "cell_type": "markdown",
      "source": [
        "Setting up Ngspice initialization for g13g2. Also do use 8 threads to speed up simulations."
      ],
      "metadata": {
        "id": "j-xjPpHskG1n"
      }
    },
    {
      "cell_type": "code",
      "source": [
        "%%writefile /content/g13g2_ldo/simulations/.spiceinit\n",
        "* ngspice initialization for g13g2\n",
        "* assert BSIM compatibility mode with \"nf\" vs. \"W\"\n",
        "set ngbehavior=hsa\n",
        "* \"nomodcheck\" speeds up loading time\n",
        "set ng_nomodcheck\n",
        "set num_threads=8"
      ],
      "metadata": {
        "colab": {
          "base_uri": "https://localhost:8080/"
        },
        "id": "4ToBIEhP0ZVb",
        "outputId": "5586fd30-86a5-4b7c-ed99-d32f7b2fa480"
      },
      "execution_count": null,
      "outputs": [
        {
          "output_type": "stream",
          "name": "stdout",
          "text": [
            "Writing /content/g13g2_ldo/simulations/.spiceinit\n"
          ]
        }
      ]
    },
    {
      "cell_type": "markdown",
      "source": [
        "Write LDO netlist. Noticed that it calls the analysis and variables of the netlist from another two spice scripts (`ldo_tb_analysis.spice` and `ldo_tb_vars.spice`). We will include them later.\n",
        "\n"
      ],
      "metadata": {
        "id": "PXwRZ2fchzgP"
      }
    },
    {
      "cell_type": "code",
      "source": [
        "!conda install -c litex-hub open_pdks.sg13g2"
      ],
      "metadata": {
        "colab": {
          "base_uri": "https://localhost:8080/"
        },
        "id": "QQiUbCFBLWrH",
        "outputId": "ad81767f-afcd-4d76-f48c-383519f2c53d"
      },
      "execution_count": null,
      "outputs": [
        {
          "output_type": "stream",
          "name": "stdout",
          "text": [
            "Collecting package metadata (current_repodata.json): - \b\b\\ \b\b| \b\b/ \b\b- \b\b\\ \b\b| \b\b/ \b\b- \b\b\\ \b\b| \b\b/ \b\b- \b\b\\ \b\b| \b\b/ \b\b- \b\b\\ \b\b| \b\b/ \b\b- \b\b\\ \b\b| \b\b/ \b\b- \b\b\\ \b\b| \b\b/ \b\b- \b\b\\ \b\b| \b\b/ \b\b- \b\b\\ \b\b| \b\b/ \b\b- \b\b\\ \b\b| \b\b/ \b\b- \b\b\\ \b\b| \b\b/ \b\b- \b\b\\ \b\b| \b\b/ \b\b- \b\b\\ \b\b| \b\b/ \b\b- \b\b\\ \b\b| \b\b/ \b\b- \b\b\\ \b\b| \b\b/ \b\b- \b\b\\ \b\b| \b\b/ \b\b- \b\b\\ \b\b| \b\b/ \b\b- \b\b\\ \b\b| \b\b/ \b\b- \b\b\\ \b\b| \b\b/ \b\b- \b\b\\ \b\b| WARNING conda.models.version:get_matcher(546): Using .* with relational operator is superfluous and deprecated and will be removed in a future version of conda. Your spec was 1.7.1.*, but conda is ignoring the .* and treating it as 1.7.1\n",
            "\b\b/ \b\b- \b\b\\ \b\b| \b\b/ \b\b- \b\b\\ \b\b| \b\b/ \b\b- \b\b\\ \b\b| \b\b/ \b\b- \b\b\\ \b\b| \b\b/ \b\b- \b\b\\ \b\b| \b\b/ \b\b- \b\b\\ \b\b| \b\b/ \b\b- \b\b\\ \b\b| \b\b/ \b\b- \b\b\\ \b\b| \b\b/ \b\b- \b\b\\ \b\b| \b\b/ \b\b- \b\b\\ \b\b| \b\b/ \b\b- \b\b\\ \b\b| \b\b/ \b\b- \b\b\\ \b\b| \b\b/ \b\b- \b\b\\ \b\b| \b\b/ \b\b- \b\b\\ \b\b| \b\b/ \b\b- \b\b\\ \b\b| \b\b/ \b\b- \b\b\\ \b\b| \b\b/ \b\b- \b\b\\ \b\b| \b\b/ \b\b- \b\b\\ \b\b| \b\b/ \b\b- \b\b\\ \b\b| \b\b/ \b\b- \b\b\\ \b\b| \b\b/ \b\b- \b\b\\ \b\b| \b\b/ \b\b- \b\b\\ \b\b| \b\b/ \b\b- \b\b\\ \b\b| \b\b/ \b\b- \b\b\\ \b\b| \b\b/ \b\b- \b\b\\ \b\b| \b\b/ \b\b- \b\b\\ \b\b| \b\b/ \b\b- \b\b\\ \b\b| \b\b/ \b\b- \b\b\\ \b\b| \b\b/ \b\b- \b\b\\ \b\b| \b\b/ \b\b- \b\b\\ \b\b| \b\b/ \b\b- \b\b\\ \b\b| \b\b/ \b\b- \b\b\\ \b\b| \b\b/ \b\b- \b\b\\ \b\b| \b\b/ \b\b- \b\b\\ \b\b| \b\b/ \b\b- \b\b\\ \b\b| \b\b/ \b\b- \b\b\\ \b\b| \b\b/ \b\b- \b\b\\ \b\b| \b\b/ \b\b- \b\b\\ \b\b| \b\b/ \b\b- \b\b\\ \b\b| \b\b/ \b\b- \b\b\\ \b\b| \b\b/ \b\b- \b\b\\ \b\b| \b\b/ \b\b- \b\b\\ \b\b| \b\b/ \b\b- \b\b\\ \b\b| \b\b/ \b\b- \b\b\\ \b\b| \b\b/ \b\b- \b\b\\ \b\b| \b\b/ \b\b- \b\b\\ \b\b| \b\b/ \b\b- \b\b\\ \b\b| \b\b/ \b\b- \b\b\\ \b\b| \b\b/ \b\b- \b\b\\ \b\b| \b\b/ \b\b- \b\b\\ \b\b| \b\b/ \b\b- \b\b\\ \b\b| \b\b/ \b\b- \b\b\\ \b\b| \b\b/ \b\b- \b\b\\ \b\b| \b\b/ \b\b- \b\b\\ \b\b| \b\b/ \b\b- \b\b\\ \b\b| \b\b/ \b\b- \b\b\\ \b\b| \b\b/ \b\b- \b\b\\ \b\b| \b\b/ \b\b- \b\b\\ \b\b| \b\b/ \b\b- \b\b\\ \b\b| \b\b/ \b\b- \b\b\\ \b\b| \b\b/ \b\b- \b\b\\ \b\b| \b\b/ \b\b- \b\b\\ \b\bdone\n",
            "Solving environment: / \b\bfailed with initial frozen solve. Retrying with flexible solve.\n",
            "Collecting package metadata (repodata.json): \\ \b\b| \b\b/ \b\b- \b\b\\ \b\b| \b\b/ \b\b- \b\b\\ \b\b| \b\b/ \b\b- \b\b\\ \b\b| \b\b/ \b\b- \b\b\\ \b\b| \b\b/ \b\b- \b\b\\ \b\b| \b\b/ \b\b- \b\b\\ \b\b| \b\b/ \b\b- \b\b\\ \b\b| \b\b/ \b\b- \b\b\\ \b\b| \b\b/ \b\b- \b\b\\ \b\b| \b\b/ \b\b- \b\b\\ \b\b| \b\b/ \b\b- \b\b\\ \b\b| \b\b/ \b\b- \b\b\\ \b\b| \b\b/ \b\b- \b\b\\ \b\b| \b\b/ \b\b- \b\b\\ \b\b| \b\b/ \b\b- \b\b\\ \b\b| \b\b/ \b\b- \b\b\\ \b\b| \b\b/ \b\b- \b\b\\ \b\b| \b\b/ \b\b- \b\b\\ \b\b| \b\b/ \b\b- \b\b\\ \b\b| \b\b/ \b\b- \b\b\\ \b\b| \b\b/ \b\b- \b\b\\ \b\b| \b\b/ \b\b- \b\b\\ \b\b| \b\b/ \b\b- \b\b\\ \b\b| \b\b/ \b\b- \b\b\\ \b\b| \b\b/ \b\b- \b\b\\ \b\b| \b\b/ \b\b- \b\b\\ \b\b| \b\b/ \b\b- \b\b\\ \b\b| \b\b/ \b\b- \b\b\\ \b\b| \b\b/ \b\b- \b\b\\ \b\b| \b\b/ \b\b- \b\b\\ \b\b| \b\b/ \b\b- \b\b\\ \b\b| \b\b/ \b\b- \b\b\\ \b\b| \b\b/ \b\b- \b\b\\ \b\b| \b\b/ \b\b- \b\b\\ \b\b| \b\b/ \b\b- \b\b\\ \b\b| \b\b/ \b\b- \b\b\\ \b\b| \b\b/ \b\b- \b\b\\ \b\b| \b\b/ \b\b- \b\b\\ \b\b| \b\b/ \b\b- \b\b\\ \b\b| \b\b/ \b\b- \b\b\\ \b\b| \b\b/ \b\b- \b\b\\ \b\b| \b\b/ \b\b- \b\b\\ \b\b| \b\b/ \b\b- \b\b\\ \b\b| \b\b/ \b\b- \b\b\\ \b\b| \b\b/ \b\b- \b\b\\ \b\b| \b\b/ \b\b- \b\b\\ \b\b| \b\b/ \b\b- \b\b\\ \b\b| \b\b/ \b\b- \b\b\\ \b\b| \b\b/ \b\b- \b\b\\ \b\b| \b\b/ \b\b- \b\b\\ \b\b| \b\b/ \b\b- \b\b\\ \b\b| \b\b/ \b\b- \b\b\\ \b\b| \b\b/ \b\b- \b\b\\ \b\b| \b\b/ \b\b- \b\b\\ \b\b| \b\b/ \b\b- \b\b\\ \b\b| \b\b/ \b\b- \b\b\\ \b\b| \b\b/ \b\b- \b\b\\ \b\b| \b\b/ \b\b- \b\b\\ \b\b| \b\b/ \b\b- \b\b\\ \b\b| \b\b/ \b\b- \b\b\\ \b\b| \b\b/ \b\b- \b\b\\ \b\b| \b\b/ \b\b- \b\b\\ \b\b| \b\b/ \b\b- \b\b\\ \b\b| \b\b/ \b\b- \b\b\\ \b\b| \b\b/ \b\b- \b\b\\ \b\b| \b\b/ \b\b- \b\b\\ \b\b| \b\b/ \b\b- \b\b\\ \b\b| \b\b/ \b\b- \b\b\\ \b\b| \b\b/ \b\b- \b\b\\ \b\b| \b\b/ \b\b- \b\b\\ \b\b| \b\b/ \b\b- \b\b\\ \b\b| \b\b/ \b\b- \b\b\\ \b\b| \b\b/ \b\b- \b\b\\ \b\b| \b\b/ \b\b- \b\b\\ \b\b| \b\b/ \b\b- \b\b\\ \b\b| \b\b/ \b\b- \b\b\\ WARNING conda.models.version:get_matcher(546): Using .* with relational operator is superfluous and deprecated and will be removed in a future version of conda. Your spec was 1.8.0.*, but conda is ignoring the .* and treating it as 1.8.0\n",
            "WARNING conda.models.version:get_matcher(546): Using .* with relational operator is superfluous and deprecated and will be removed in a future version of conda. Your spec was 1.9.0.*, but conda is ignoring the .* and treating it as 1.9.0\n",
            "WARNING conda.models.version:get_matcher(546): Using .* with relational operator is superfluous and deprecated and will be removed in a future version of conda. Your spec was 1.6.0.*, but conda is ignoring the .* and treating it as 1.6.0\n",
            "\b\b| \b\b/ \b\b- \b\b\\ \b\b| \b\b/ \b\b- \b\b\\ \b\b| \b\b/ \b\b- \b\b\\ \b\b| \b\b/ \b\b- \b\b\\ \b\b| \b\b/ \b\b- \b\b\\ \b\b| \b\b/ \b\b- \b\b\\ \b\b| \b\b/ \b\b- \b\b\\ \b\b| \b\b/ \b\b- \b\b\\ \b\b| \b\b/ \b\b- \b\b\\ \b\b| \b\b/ \b\b- \b\b\\ \b\b| \b\b/ \b\b- \b\b\\ \b\b| \b\b/ \b\b- \b\b\\ \b\b| \b\b/ \b\b- \b\b\\ \b\b| \b\b/ \b\b- \b\b\\ \b\b| \b\b/ \b\b- \b\b\\ \b\b| \b\b/ \b\b- \b\b\\ \b\b| \b\b/ \b\b- \b\b\\ \b\b| \b\b/ \b\b- \b\b\\ \b\b| \b\b/ \b\b- \b\b\\ \b\b| \b\b/ \b\b- \b\b\\ \b\b| \b\b/ \b\b- \b\b\\ \b\b| \b\b/ \b\b- \b\b\\ \b\b| \b\b/ \b\b- \b\b\\ \b\b| \b\b/ \b\b- \b\b\\ \b\b| \b\b/ \b\b- \b\b\\ \b\b| \b\b/ \b\b- \b\b\\ \b\b| \b\b/ \b\b- \b\b\\ \b\b| \b\b/ \b\b- \b\b\\ \b\b| \b\b/ \b\b- \b\b\\ \b\b| \b\b/ \b\b- \b\b\\ \b\b| \b\b/ \b\b- \b\b\\ \b\b| \b\b/ \b\b- \b\b\\ \b\b| \b\b/ \b\b- \b\b\\ \b\b| \b\b/ \b\b- \b\b\\ \b\b| \b\b/ \b\b- \b\b\\ \b\b| \b\b/ \b\b- \b\b\\ \b\b| \b\b/ \b\b- \b\b\\ \b\b| \b\b/ \b\b- \b\b\\ \b\b| \b\b/ \b\b- \b\b\\ \b\b| \b\b/ \b\b- \b\b\\ \b\b| \b\b/ \b\b- \b\b\\ \b\b| \b\b/ \b\b- \b\b\\ \b\b| \b\b/ \b\b- \b\b\\ \b\b| \b\b/ \b\b- \b\b\\ \b\b| \b\b/ \b\b- \b\b\\ \b\b| \b\b/ \b\b- \b\b\\ \b\b| \b\b/ \b\b- \b\b\\ \b\b| \b\b/ \b\b- \b\b\\ \b\b| \b\b/ \b\b- \b\b\\ \b\b| \b\b/ \b\b- \b\b\\ \b\b| \b\b/ \b\b- \b\b\\ \b\b| \b\b/ \b\b- \b\b\\ \b\b| \b\b/ \b\b- \b\b\\ \b\b| \b\b/ \b\b- \b\b\\ \b\b| \b\b/ \b\b- \b\b\\ \b\b| \b\b/ \b\b- \b\b\\ \b\b| \b\b/ \b\b- \b\b\\ \b\b| \b\b/ \b\b- \b\b\\ \b\b| \b\b/ \b\b- \b\b\\ \b\b| \b\b/ \b\b- \b\b\\ \b\b| \b\b/ \b\b- \b\b\\ \b\b| \b\b/ \b\b- \b\b\\ \b\b| \b\b/ \b\b- \b\b\\ \b\b| \b\b/ \b\b- \b\b\\ \b\b| \b\b/ \b\b- \b\b\\ \b\b| \b\b/ \b\b- \b\b\\ \b\b| \b\b/ \b\b- \b\b\\ \b\b| \b\b/ \b\b- \b\b\\ \b\b| \b\b/ \b\b- \b\b\\ \b\b| \b\b/ \b\b- \b\b\\ \b\b| \b\b/ \b\b- \b\b\\ \b\b| \b\b/ \b\b- \b\b\\ \b\b| \b\b/ \b\b- \b\b\\ \b\b| \b\b/ \b\b- \b\b\\ \b\b| \b\b/ \b\b- \b\b\\ \b\b| \b\b/ \b\b- \b\b\\ \b\b| \b\b/ \b\b- \b\b\\ \b\b| \b\b/ \b\b- \b\b\\ \b\b| \b\b/ \b\b- \b\b\\ \b\b| \b\b/ \b\b- \b\b\\ \b\b| \b\b/ \b\b- \b\b\\ \b\b| \b\b/ \b\b- \b\b\\ \b\b| \b\b/ \b\b- \b\b\\ \b\b| \b\b/ \b\b- \b\b\\ \b\b| \b\b/ \b\b- \b\b\\ \b\b| \b\b/ \b\b- \b\b\\ \b\b| \b\b/ \b\b- \b\b\\ \b\b| \b\b/ \b\b- \b\b\\ \b\b| \b\b/ \b\b- \b\b\\ \b\b| \b\b/ \b\b- \b\b\\ \b\b| \b\b/ \b\b- \b\b\\ \b\b| \b\b/ \b\b- \b\b\\ \b\b| \b\b/ \b\b- \b\b\\ \b\b| \b\b/ \b\b- \b\b\\ \b\b| \b\b/ \b\b- \b\b\\ \b\b| \b\b/ \b\b- \b\b\\ \b\b| \b\b/ \b\b- \b\b\\ \b\b| \b\b/ \b\b- \b\b\\ \b\b| \b\b/ \b\b- \b\b\\ \b\b| \b\b/ \b\b- \b\b\\ \b\b| \b\b/ \b\b- \b\b\\ \b\b| \b\b/ \b\b- \b\b\\ \b\b| \b\b/ \b\b- \b\b\\ \b\b| \b\b/ \b\b- \b\b\\ \b\b| \b\b/ \b\b- \b\b\\ \b\b| \b\b/ \b\b- \b\b\\ \b\b| \b\b/ \b\b- \b\b\\ \b\b| \b\b/ \b\b- \b\b\\ \b\b| \b\b/ \b\b- \b\b\\ \b\b| \b\b/ \b\b- \b\b\\ \b\b| \b\b/ \b\b- \b\b\\ \b\b| \b\b/ \b\b- \b\b\\ \b\b| \b\b/ \b\b- \b\b\\ \b\b| \b\b/ \b\b- \b\b\\ \b\b| \b\b/ \b\b- \b\b\\ \b\b| \b\b/ \b\b- \b\b\\ \b\b| \b\b/ \b\b- \b\b\\ \b\b| \b\b/ \b\b- \b\b\\ \b\b| \b\b/ \b\b- \b\b\\ \b\b| \b\b/ \b\b- \b\b\\ \b\b| \b\b/ \b\b- \b\b\\ \b\b| \b\b/ \b\b- \b\b\\ \b\b| \b\b/ \b\b- \b\b\\ \b\b| \b\b/ \b\b- \b\b\\ \b\b| \b\b/ \b\b- \b\b\\ \b\b| \b\b/ \b\b- \b\b\\ \b\b| \b\b/ \b\b- \b\b\\ \b\b| \b\b/ \b\b- \b\b\\ \b\b| \b\b/ \b\b- \b\b\\ \b\b| \b\b/ \b\b- \b\b\\ \b\b| \b\b/ \b\b- \b\b\\ \b\b| \b\b/ \b\b- \b\b\\ \b\b| \b\b/ \b\b- \b\b\\ \b\b| \b\b/ \b\b- \b\b\\ \b\b| \b\b/ \b\b- \b\b\\ \b\b| \b\b/ \b\b- \b\b\\ \b\b| \b\b/ \b\b- \b\b\\ \b\b| \b\b/ \b\b- \b\b\\ \b\b| \b\b/ \b\b- \b\b\\ \b\b| \b\b/ \b\b- \b\b\\ \b\b| \b\b/ \b\b- \b\b\\ \b\b| \b\b/ \b\b- \b\b\\ \b\b| \b\b/ \b\b- \b\b\\ \b\b| \b\b/ \b\b- \b\b\\ \b\b| \b\b/ \b\b- \b\b\\ \b\b| \b\b/ \b\b- \b\b\\ \b\b| \b\b/ \b\b- \b\b\\ \b\b| \b\b/ \b\b- \b\b\\ \b\b| \b\b/ \b\b- \b\b\\ \b\b| \b\b/ \b\b- \b\b\\ \b\b| \b\b/ \b\b- \b\b\\ \b\b| \b\b/ \b\b- \b\b\\ \b\b| \b\b/ \b\b- \b\b\\ \b\b| \b\b/ \b\b- \b\b\\ \b\b| \b\b/ \b\b- \b\b\\ \b\b| \b\b/ \b\b- \b\b\\ \b\b| \b\b/ \b\b- \b\b\\ \b\b| \b\b/ \b\b- \b\b\\ \b\b| \b\b/ \b\b- \b\b\\ \b\b| \b\b/ \b\b- \b\b\\ \b\b| \b\b/ \b\b- \b\b\\ \b\b| \b\b/ \b\b- \b\b\\ \b\b| \b\b/ \b\b- \b\b\\ \b\b| \b\b/ \b\b- \b\b\\ \b\b| \b\b/ \b\b- \b\b\\ \b\b| \b\b/ \b\b- \b\b\\ \b\b| \b\b/ \b\b- \b\b\\ \b\b| \b\b/ \b\b- \b\b\\ \b\b| \b\b/ \b\b- \b\b\\ \b\b| \b\b/ \b\b- \b\b\\ \b\b| \b\b/ \b\b- \b\b\\ \b\b| \b\b/ \b\b- \b\b\\ \b\b| \b\b/ \b\b- \b\b\\ \b\b| \b\b/ \b\b- \b\b\\ \b\b| \b\b/ \b\b- \b\b\\ \b\b| \b\b/ \b\b- \b\b\\ \b\b| \b\b/ \b\b- \b\b\\ \b\b| \b\b/ \b\b- \b\b\\ \b\b| \b\b/ \b\b- \b\b\\ \b\b| \b\b/ \b\b- \b\b\\ \b\b| \b\b/ \b\b- \b\b\\ \b\b| \b\b/ \b\b- \b\b\\ \b\b| \b\b/ \b\b- \b\b\\ \b\b| \b\b/ \b\b- \b\b\\ \b\b| \b\b/ \b\b- \b\b\\ \b\b| \b\b/ \b\b- \b\b\\ \b\b| \b\b/ \b\b- \b\b\\ \b\b| \b\b/ \b\b- \b\b\\ \b\b| \b\b/ \b\b- \b\b\\ \b\b| \b\b/ \b\b- \b\b\\ \b\b| \b\b/ \b\b- \b\b\\ \b\b| \b\b/ \b\b- \b\b\\ \b\b| \b\b/ \b\b- \b\b\\ \b\b| \b\b/ \b\b- \b\b\\ \b\b| \b\b/ \b\b- \b\b\\ \b\b| \b\b/ \b\b- \b\b\\ \b\b| \b\b/ \b\b- \b\b\\ \b\b| \b\b/ \b\b- \b\b\\ \b\b| \b\b/ \b\b- \b\b\\ \b\b| \b\b/ \b\b- \b\b\\ \b\b| \b\b/ \b\b- \b\b\\ \b\b| \b\b/ \b\b- \b\b\\ \b\b| \b\b/ \b\b- \b\b\\ \b\b| \b\b/ \b\b- \b\b\\ \b\b| \b\b/ \b\b- \b\b\\ \b\b| \b\b/ \b\b- \b\b\\ \b\b| \b\b/ \b\b- \b\b\\ \b\b| \b\b/ \b\b- \b\b\\ \b\b| \b\b/ \b\b- \b\b\\ \b\b| \b\b/ \b\b- \b\b\\ \b\b| \b\b/ \b\b- \b\b\\ \b\b| \b\b/ \b\b- \b\b\\ \b\b| \b\b/ \b\b- \b\b\\ \b\b| \b\b/ \b\b- \b\b\\ \b\b| \b\b/ \b\b- \b\b\\ \b\b| \b\b/ \b\b- \b\b\\ \b\b| \b\b/ \b\b- \b\b\\ \b\b| \b\b/ \b\b- \b\b\\ \b\b| \b\b/ \b\b- \b\b\\ \b\b| \b\b/ \b\b- \b\b\\ \b\b| \b\b/ \b\b- \b\b\\ \b\b| \b\b/ \b\b- \b\b\\ \b\b| \b\b/ \b\b- \b\b\\ \b\b| \b\b/ \b\b- \b\b\\ \b\b| \b\b/ \b\b- \b\b\\ \b\b| \b\b/ \b\b- \b\b\\ \b\b| \b\b/ \b\b- \b\b\\ \b\b| \b\b/ \b\b- \b\b\\ \b\b| \b\b/ \b\b- \b\b\\ \b\b| \b\b/ \b\b- \b\b\\ \b\b| \b\b/ \b\b- \b\b\\ \b\b| \b\b/ \b\b- \b\b\\ \b\b| \b\b/ \b\b- \b\b\\ \b\b| \b\b/ \b\b- \b\b\\ \b\b| \b\b/ \b\b- \b\b\\ \b\b| \b\b/ \b\b- \b\b\\ \b\b| \b\b/ \b\b- \b\b\\ \b\b| \b\b/ \b\b- \b\b\\ \b\b| \b\b/ \b\b- \b\b\\ \b\b| \b\b/ \b\b- \b\b\\ \b\b| \b\b/ \b\b- \b\b\\ \b\b| \b\b/ \b\b- \b\b\\ \b\b| \b\b/ \b\b- \b\b\\ \b\b| \b\b/ \b\b- \b\b\\ \b\b| \b\b/ \b\b- \b\b\\ \b\b| \b\b/ \b\b- \b\b\\ \b\b| \b\b/ \b\b- \b\b\\ \b\b| \b\b/ \b\b- \b\b\\ \b\b| \b\b/ \b\b- \b\b\\ \b\b| \b\b/ \b\b- \b\b\\ \b\b| \b\b/ \b\b- \b\b\\ \b\b| \b\b/ \b\b- \b\b\\ \b\b| \b\b/ \b\b- \b\b\\ \b\b| \b\b/ \b\b- \b\b\\ \b\b| \b\b/ \b\b- \b\b\\ \b\b| \b\b/ \b\b- \b\b\\ \b\b| \b\b/ \b\b- \b\b\\ \b\b| \b\b/ \b\b- \b\b\\ \b\b| \b\b/ \b\b- \b\b\\ \b\b| \b\b/ \b\b- \b\b\\ \b\b| \b\b/ \b\b- \b\b\\ \b\b| \b\b/ \b\b- \b\b\\ \b\b| \b\b/ \b\b- \b\b\\ \b\b| \b\b/ \b\b- \b\b\\ \b\b| \b\b/ \b\b- \b\b\\ \b\b| \b\b/ \b\b- \b\b\\ \b\b| \b\b/ \b\b- \b\b\\ \b\b| \b\b/ \b\b- \b\b\\ \b\b| \b\b/ \b\b- \b\b\\ \b\b| \b\b/ \b\b- \b\b\\ \b\b| \b\b/ \b\b- \b\b\\ \b\b| \b\b/ \b\b- \b\b\\ \b\b| \b\b/ \b\b- \b\b\\ \b\b| \b\b/ \b\b- \b\b\\ \b\b| \b\b/ \b\b- \b\b\\ \b\b| \b\b/ \b\b- \b\b\\ \b\b| \b\b/ \b\b- \b\b\\ \b\b| \b\b/ \b\b- \b\b\\ \b\b| \b\b/ \b\b- \b\b\\ \b\b| \b\b/ \b\b- \b\b\\ \b\b| \b\b/ \b\b- \b\b\\ \b\b| \b\b/ \b\b- \b\b\\ \b\b| \b\b/ \b\b- \b\b\\ \b\b| \b\b/ \b\b- \b\b\\ \b\b| \b\b/ \b\b- \b\b\\ \b\b| \b\bdone\n",
            "Solving environment: - \b\bfailed with initial frozen solve. Retrying with flexible solve.\n",
            "\n",
            "PackagesNotFoundError: The following packages are not available from current channels:\n",
            "\n",
            "  - open_pdks.sg13g2\n",
            "\n",
            "Current channels:\n",
            "\n",
            "  - https://conda.anaconda.org/litex-hub/linux-64\n",
            "  - https://conda.anaconda.org/litex-hub/noarch\n",
            "  - https://conda.anaconda.org/conda-forge/linux-64\n",
            "  - https://conda.anaconda.org/conda-forge/noarch\n",
            "\n",
            "To search for alternate channels that may provide the conda package you're\n",
            "looking for, navigate to\n",
            "\n",
            "    https://anaconda.org\n",
            "\n",
            "and use the search bar at the top of the page.\n",
            "\n",
            "\n"
          ]
        }
      ]
    },
    {
      "cell_type": "code",
      "source": [
        "#TODO: MODIFY BELOW CODE FOR G13g2\n",
        "%%writefile /content/sky130_ldo/simulations/ldo_tb.spice\n",
        "** sch_path: /fs1/eecg/tcc/lizongh2/sky130_ldo/xschem/ldo_tb.sch\n",
        "**.subckt ldo_tb Vreg Vreg1\n",
        "*.opin Vreg\n",
        "*.opin Vreg1\n",
        "Vref Vref GND Vref\n",
        ".save i(vref)\n",
        "Vb net1 GND Vb\n",
        ".save i(vb)\n",
        "IL Vreg net2 dc IL PULSE(10u IL 0 10n 10n 50u 100u 0)\n",
        "Vdd Vdd GND ac 1 dc Vdd\n",
        ".save i(vdd)\n",
        "x1 Vdd Vreg Vref net1 GND Vreg ldo\n",
        "XCL Vreg GND sky130_fd_pr__cap_mim_m3_1 W=30 L=30 MF=M_CL m=M_CL\n",
        "Rdummy net2 GND 1 m=1\n",
        "Vref1 Vref1 GND Vref\n",
        ".save i(vref1)\n",
        "Vb1 net3 GND Vb\n",
        ".save i(vb1)\n",
        "IL1 Vreg1 GND IL\n",
        "Vdd1 Vdd1 GND Vdd\n",
        ".save i(vdd1)\n",
        "x2 Vdd1 net4 Vref1 net3 GND Vreg1 ldo\n",
        "XCL1 Vreg1 GND sky130_fd_pr__cap_mim_m3_1 W=30 L=30 MF=M_CL m=M_CL\n",
        "Vprobe2 probe net4 dc 0\n",
        ".save i(vprobe2)\n",
        "Vprobe1 probe Vreg1 dc 0 ac 1\n",
        ".save i(vprobe1)\n",
        "Iprobe1 GND probe dc 0 ac 0\n",
        "**** begin user architecture code\n",
        "\n",
        "* Not loading the entire design corner which takes too long\n",
        "*.lib /usr/local/share/pdk/sky130A/libs.tech/ngspice/sky130.lib.spice tt\n",
        "\n",
        "* Instead just load tt corner which is faster\n",
        ".param mc_mm_switch=0\n",
        ".param mc_pr_switch=0\n",
        ".include /usr/local/share/pdk/sky130A/libs.tech/ngspice/corners/tt.spice\n",
        ".include /usr/local/share/pdk/sky130A/libs.tech/ngspice/r+c/res_typical__cap_typical.spice\n",
        ".include /usr/local/share/pdk/sky130A/libs.tech/ngspice/r+c/res_typical__cap_typical__lin.spice\n",
        ".include /usr/local/share/pdk/sky130A/libs.tech/ngspice/corners/tt/specialized_cells.spice\n",
        "\n",
        ".control\n",
        "* save all voltage and current\n",
        "save all\n",
        ".options savecurrents\n",
        "set filetype=ascii\n",
        "set units=degrees\n",
        "\n",
        ".include /content/sky130_ldo/simulations/ldo_tb_analysis.spice\n",
        ".endc\n",
        "\n",
        ".include /content/sky130_ldo/simulations/ldo_tb_vars.spice\n",
        "\n",
        "**** end user architecture code\n",
        "**.ends\n",
        "\n",
        "* expanding   symbol:  ldo.sym # of pins=6\n",
        "** sym_path: /fs1/eecg/tcc/lizongh2/sky130_ldo/xschem/ldo.sym\n",
        "** sch_path: /fs1/eecg/tcc/lizongh2/sky130_ldo/xschem/ldo.sch\n",
        ".subckt ldo Vdd Vfb Vref Vb Vss Vreg\n",
        "*.iopin Vb\n",
        "*.iopin Vss\n",
        "*.opin Vreg\n",
        "*.iopin Vref\n",
        "*.ipin Vdd\n",
        "*.iopin Vfb\n",
        "x1 Vdd net1 Vfb Vref Vb Vss diff_pair\n",
        "XM6 Vreg net1 Vdd Vdd sky130_fd_pr__pfet_g5v0d10v5 L=L_pass W=W_pass nf=1 ad='int((nf+1)/2) * W/nf * 0.29'\n",
        "+ as='int((nf+2)/2) * W/nf * 0.29' pd='2*int((nf+1)/2) * (W/nf + 0.29)' ps='2*int((nf+2)/2) * (W/nf + 0.29)'\n",
        "+ nrd='0.29 / W' nrs='0.29 / W' sa=0 sb=0 sd=0 mult=M_pass m=M_pass\n",
        "XCfb net2 Vreg sky130_fd_pr__cap_mim_m3_1 W=10 L=10 MF=M_Cfb m=M_Cfb\n",
        "XRfb net2 net1 Vss sky130_fd_pr__res_high_po_0p35 L=3 mult=M_Rfb m=M_Rfb\n",
        ".ends\n",
        "\n",
        "\n",
        "* expanding   symbol:  diff_pair.sym # of pins=6\n",
        "** sym_path: /fs1/eecg/tcc/lizongh2/sky130_ldo/xschem/diff_pair.sym\n",
        "** sch_path: /fs1/eecg/tcc/lizongh2/sky130_ldo/xschem/diff_pair.sch\n",
        ".subckt diff_pair Vdd vout vinp vinm Vb Vss\n",
        "*.iopin Vdd\n",
        "*.ipin vinm\n",
        "*.ipin vinp\n",
        "*.iopin Vb\n",
        "*.opin vout\n",
        "*.iopin Vss\n",
        "XM1 net1 vinp net2 Vss sky130_fd_pr__nfet_g5v0d10v5 L=L_M1 W=W_M1 nf=1 ad='int((nf+1)/2) * W/nf * 0.29'\n",
        "+ as='int((nf+2)/2) * W/nf * 0.29' pd='2*int((nf+1)/2) * (W/nf + 0.29)' ps='2*int((nf+2)/2) * (W/nf + 0.29)'\n",
        "+ nrd='0.29 / W' nrs='0.29 / W' sa=0 sb=0 sd=0 mult=1 m=1\n",
        "XM2 vout vinm net2 Vss sky130_fd_pr__nfet_g5v0d10v5 L=L_M2 W=W_M2 nf=1 ad='int((nf+1)/2) * W/nf * 0.29'\n",
        "+ as='int((nf+2)/2) * W/nf * 0.29' pd='2*int((nf+1)/2) * (W/nf + 0.29)' ps='2*int((nf+2)/2) * (W/nf + 0.29)'\n",
        "+ nrd='0.29 / W' nrs='0.29 / W' sa=0 sb=0 sd=0 mult=1 m=1\n",
        "XM3 vout net1 Vdd Vdd sky130_fd_pr__pfet_g5v0d10v5 L=L_M3 W=W_M3 nf=1 ad='int((nf+1)/2) * W/nf * 0.29'\n",
        "+ as='int((nf+2)/2) * W/nf * 0.29' pd='2*int((nf+1)/2) * (W/nf + 0.29)' ps='2*int((nf+2)/2) * (W/nf + 0.29)'\n",
        "+ nrd='0.29 / W' nrs='0.29 / W' sa=0 sb=0 sd=0 mult=1 m=1\n",
        "XM4 net1 net1 Vdd Vdd sky130_fd_pr__pfet_g5v0d10v5 L=L_M4 W=W_M4 nf=1 ad='int((nf+1)/2) * W/nf * 0.29'\n",
        "+ as='int((nf+2)/2) * W/nf * 0.29' pd='2*int((nf+1)/2) * (W/nf + 0.29)' ps='2*int((nf+2)/2) * (W/nf + 0.29)'\n",
        "+ nrd='0.29 / W' nrs='0.29 / W' sa=0 sb=0 sd=0 mult=1 m=1\n",
        "XM5 net2 Vb Vss Vss sky130_fd_pr__nfet_g5v0d10v5 L=L_M5 W=W_M5 nf=1 ad='int((nf+1)/2) * W/nf * 0.29'\n",
        "+ as='int((nf+2)/2) * W/nf * 0.29' pd='2*int((nf+1)/2) * (W/nf + 0.29)' ps='2*int((nf+2)/2) * (W/nf + 0.29)'\n",
        "+ nrd='0.29 / W' nrs='0.29 / W' sa=0 sb=0 sd=0 mult=1 m=1\n",
        ".ends\n",
        "\n",
        ".GLOBAL GND\n",
        ".end\n"
      ],
      "metadata": {
        "colab": {
          "base_uri": "https://localhost:8080/",
          "height": 477
        },
        "id": "Y36ejEZ-0opN",
        "outputId": "e9a46b0c-7012-44e8-d8c2-edfd4fb1f547"
      },
      "execution_count": null,
      "outputs": [
        {
          "output_type": "stream",
          "name": "stdout",
          "text": [
            "Writing /content/sky130_ldo/simulations/ldo_tb.spice\n"
          ]
        },
        {
          "output_type": "error",
          "ename": "FileNotFoundError",
          "evalue": "[Errno 2] No such file or directory: '/content/sky130_ldo/simulations/ldo_tb.spice'",
          "traceback": [
            "\u001b[0;31m---------------------------------------------------------------------------\u001b[0m",
            "\u001b[0;31mFileNotFoundError\u001b[0m                         Traceback (most recent call last)",
            "\u001b[0;32m<ipython-input-4-0cd171d63f37>\u001b[0m in \u001b[0;36m<cell line: 1>\u001b[0;34m()\u001b[0m\n\u001b[0;32m----> 1\u001b[0;31m \u001b[0mget_ipython\u001b[0m\u001b[0;34m(\u001b[0m\u001b[0;34m)\u001b[0m\u001b[0;34m.\u001b[0m\u001b[0mrun_cell_magic\u001b[0m\u001b[0;34m(\u001b[0m\u001b[0;34m'writefile'\u001b[0m\u001b[0;34m,\u001b[0m \u001b[0;34m'/content/sky130_ldo/simulations/ldo_tb.spice'\u001b[0m\u001b[0;34m,\u001b[0m \u001b[0;34m\"** sch_path: /fs1/eecg/tcc/lizongh2/sky130_ldo/xschem/ldo_tb.sch\\n**.subckt ldo_tb Vreg Vreg1\\n*.opin Vreg\\n*.opin Vreg1\\nVref Vref GND Vref\\n.save i(vref)\\nVb net1 GND Vb\\n.save i(vb)\\nIL Vreg net2 dc IL PULSE(10u IL 0 10n 10n 50u 100u 0)\\nVdd Vdd GND ac 1 dc Vdd\\n.save i(vdd)\\nx1 Vdd Vreg Vref net1 GND Vreg ldo\\nXCL Vreg GND sky130_fd_pr__cap_mim_m3_1 W=30 L=30 MF=M_CL m=M_CL\\nRdummy net2 GND 1 m=1\\nVref1 Vref1 GND Vref\\n.save i(vref1)\\nVb1 net3 GND Vb\\n.save i(vb1)\\nIL1 Vreg1 GND IL\\nVdd1 Vdd1 GND Vdd\\n.save i(vdd1)\\nx2 Vdd1 net4 Vref1 net3 GND Vreg1 ldo\\nXCL1 Vreg1 GND sky130_fd_pr__cap_mim_m3_1 W=30 L=30 MF=M_CL m=M_CL\\nVprobe2 probe net4 dc 0\\n.save i(vprobe2)\\nVprobe1 probe Vreg1 dc 0 ac 1\\n.save i(vprobe1)\\nIprobe1 GND probe dc 0 ac 0\\n**** begin user architecture code\\n\\n* Not loading the entire design corner which takes too long\\n*.lib /usr/local/share/pdk/sky130A/libs.tech/ngspice/sky130.lib.spice tt\\n\\n* Instead just load tt corner which is faster\\n.param mc_mm_switch=0\\n.param mc_pr_switch=0\\n.include /usr/local/share/pdk/sky130A/libs.tech/ngspice/corners/tt.spice\\n.include /usr/local/share/pdk/sky130A/libs.tech/ngspice/r+c/res_typical__cap_typical.spice\\n.include /usr/local/share/pdk/sky130A/libs.tech/ngspice/r+c/res_typical__cap_typical__...\n\u001b[0m",
            "\u001b[0;32m/usr/local/lib/python3.10/dist-packages/google/colab/_shell.py\u001b[0m in \u001b[0;36mrun_cell_magic\u001b[0;34m(self, magic_name, line, cell)\u001b[0m\n\u001b[1;32m    332\u001b[0m     \u001b[0;32mif\u001b[0m \u001b[0mline\u001b[0m \u001b[0;32mand\u001b[0m \u001b[0;32mnot\u001b[0m \u001b[0mcell\u001b[0m\u001b[0;34m:\u001b[0m\u001b[0;34m\u001b[0m\u001b[0;34m\u001b[0m\u001b[0m\n\u001b[1;32m    333\u001b[0m       \u001b[0mcell\u001b[0m \u001b[0;34m=\u001b[0m \u001b[0;34m' '\u001b[0m\u001b[0;34m\u001b[0m\u001b[0;34m\u001b[0m\u001b[0m\n\u001b[0;32m--> 334\u001b[0;31m     \u001b[0;32mreturn\u001b[0m \u001b[0msuper\u001b[0m\u001b[0;34m(\u001b[0m\u001b[0;34m)\u001b[0m\u001b[0;34m.\u001b[0m\u001b[0mrun_cell_magic\u001b[0m\u001b[0;34m(\u001b[0m\u001b[0mmagic_name\u001b[0m\u001b[0;34m,\u001b[0m \u001b[0mline\u001b[0m\u001b[0;34m,\u001b[0m \u001b[0mcell\u001b[0m\u001b[0;34m)\u001b[0m\u001b[0;34m\u001b[0m\u001b[0;34m\u001b[0m\u001b[0m\n\u001b[0m\u001b[1;32m    335\u001b[0m \u001b[0;34m\u001b[0m\u001b[0m\n\u001b[1;32m    336\u001b[0m \u001b[0;34m\u001b[0m\u001b[0m\n",
            "\u001b[0;32m/usr/local/lib/python3.10/dist-packages/IPython/core/interactiveshell.py\u001b[0m in \u001b[0;36mrun_cell_magic\u001b[0;34m(self, magic_name, line, cell)\u001b[0m\n\u001b[1;32m   2471\u001b[0m             \u001b[0;32mwith\u001b[0m \u001b[0mself\u001b[0m\u001b[0;34m.\u001b[0m\u001b[0mbuiltin_trap\u001b[0m\u001b[0;34m:\u001b[0m\u001b[0;34m\u001b[0m\u001b[0;34m\u001b[0m\u001b[0m\n\u001b[1;32m   2472\u001b[0m                 \u001b[0margs\u001b[0m \u001b[0;34m=\u001b[0m \u001b[0;34m(\u001b[0m\u001b[0mmagic_arg_s\u001b[0m\u001b[0;34m,\u001b[0m \u001b[0mcell\u001b[0m\u001b[0;34m)\u001b[0m\u001b[0;34m\u001b[0m\u001b[0;34m\u001b[0m\u001b[0m\n\u001b[0;32m-> 2473\u001b[0;31m                 \u001b[0mresult\u001b[0m \u001b[0;34m=\u001b[0m \u001b[0mfn\u001b[0m\u001b[0;34m(\u001b[0m\u001b[0;34m*\u001b[0m\u001b[0margs\u001b[0m\u001b[0;34m,\u001b[0m \u001b[0;34m**\u001b[0m\u001b[0mkwargs\u001b[0m\u001b[0;34m)\u001b[0m\u001b[0;34m\u001b[0m\u001b[0;34m\u001b[0m\u001b[0m\n\u001b[0m\u001b[1;32m   2474\u001b[0m             \u001b[0;32mreturn\u001b[0m \u001b[0mresult\u001b[0m\u001b[0;34m\u001b[0m\u001b[0;34m\u001b[0m\u001b[0m\n\u001b[1;32m   2475\u001b[0m \u001b[0;34m\u001b[0m\u001b[0m\n",
            "\u001b[0;32m<decorator-gen-98>\u001b[0m in \u001b[0;36mwritefile\u001b[0;34m(self, line, cell)\u001b[0m\n",
            "\u001b[0;32m/usr/local/lib/python3.10/dist-packages/IPython/core/magic.py\u001b[0m in \u001b[0;36m<lambda>\u001b[0;34m(f, *a, **k)\u001b[0m\n\u001b[1;32m    185\u001b[0m     \u001b[0;31m# but it's overkill for just that one bit of state.\u001b[0m\u001b[0;34m\u001b[0m\u001b[0;34m\u001b[0m\u001b[0m\n\u001b[1;32m    186\u001b[0m     \u001b[0;32mdef\u001b[0m \u001b[0mmagic_deco\u001b[0m\u001b[0;34m(\u001b[0m\u001b[0marg\u001b[0m\u001b[0;34m)\u001b[0m\u001b[0;34m:\u001b[0m\u001b[0;34m\u001b[0m\u001b[0;34m\u001b[0m\u001b[0m\n\u001b[0;32m--> 187\u001b[0;31m         \u001b[0mcall\u001b[0m \u001b[0;34m=\u001b[0m \u001b[0;32mlambda\u001b[0m \u001b[0mf\u001b[0m\u001b[0;34m,\u001b[0m \u001b[0;34m*\u001b[0m\u001b[0ma\u001b[0m\u001b[0;34m,\u001b[0m \u001b[0;34m**\u001b[0m\u001b[0mk\u001b[0m\u001b[0;34m:\u001b[0m \u001b[0mf\u001b[0m\u001b[0;34m(\u001b[0m\u001b[0;34m*\u001b[0m\u001b[0ma\u001b[0m\u001b[0;34m,\u001b[0m \u001b[0;34m**\u001b[0m\u001b[0mk\u001b[0m\u001b[0;34m)\u001b[0m\u001b[0;34m\u001b[0m\u001b[0;34m\u001b[0m\u001b[0m\n\u001b[0m\u001b[1;32m    188\u001b[0m \u001b[0;34m\u001b[0m\u001b[0m\n\u001b[1;32m    189\u001b[0m         \u001b[0;32mif\u001b[0m \u001b[0mcallable\u001b[0m\u001b[0;34m(\u001b[0m\u001b[0marg\u001b[0m\u001b[0;34m)\u001b[0m\u001b[0;34m:\u001b[0m\u001b[0;34m\u001b[0m\u001b[0;34m\u001b[0m\u001b[0m\n",
            "\u001b[0;32m/usr/local/lib/python3.10/dist-packages/IPython/core/magics/osm.py\u001b[0m in \u001b[0;36mwritefile\u001b[0;34m(self, line, cell)\u001b[0m\n\u001b[1;32m    854\u001b[0m \u001b[0;34m\u001b[0m\u001b[0m\n\u001b[1;32m    855\u001b[0m         \u001b[0mmode\u001b[0m \u001b[0;34m=\u001b[0m \u001b[0;34m'a'\u001b[0m \u001b[0;32mif\u001b[0m \u001b[0margs\u001b[0m\u001b[0;34m.\u001b[0m\u001b[0mappend\u001b[0m \u001b[0;32melse\u001b[0m \u001b[0;34m'w'\u001b[0m\u001b[0;34m\u001b[0m\u001b[0;34m\u001b[0m\u001b[0m\n\u001b[0;32m--> 856\u001b[0;31m         \u001b[0;32mwith\u001b[0m \u001b[0mio\u001b[0m\u001b[0;34m.\u001b[0m\u001b[0mopen\u001b[0m\u001b[0;34m(\u001b[0m\u001b[0mfilename\u001b[0m\u001b[0;34m,\u001b[0m \u001b[0mmode\u001b[0m\u001b[0;34m,\u001b[0m \u001b[0mencoding\u001b[0m\u001b[0;34m=\u001b[0m\u001b[0;34m'utf-8'\u001b[0m\u001b[0;34m)\u001b[0m \u001b[0;32mas\u001b[0m \u001b[0mf\u001b[0m\u001b[0;34m:\u001b[0m\u001b[0;34m\u001b[0m\u001b[0;34m\u001b[0m\u001b[0m\n\u001b[0m\u001b[1;32m    857\u001b[0m             \u001b[0mf\u001b[0m\u001b[0;34m.\u001b[0m\u001b[0mwrite\u001b[0m\u001b[0;34m(\u001b[0m\u001b[0mcell\u001b[0m\u001b[0;34m)\u001b[0m\u001b[0;34m\u001b[0m\u001b[0;34m\u001b[0m\u001b[0m\n",
            "\u001b[0;31mFileNotFoundError\u001b[0m: [Errno 2] No such file or directory: '/content/sky130_ldo/simulations/ldo_tb.spice'"
          ]
        }
      ]
    },
    {
      "cell_type": "code",
      "source": [],
      "metadata": {
        "id": "dR7YpBYB04eg"
      },
      "execution_count": null,
      "outputs": []
    }
  ]
}