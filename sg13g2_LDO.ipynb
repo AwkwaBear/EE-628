{
  "nbformat": 4,
  "nbformat_minor": 0,
  "metadata": {
    "colab": {
      "provenance": [],
      "authorship_tag": "ABX9TyMGq5Z1YQyDIgbdzQf6OwZk",
      "include_colab_link": true
    },
    "kernelspec": {
      "name": "python3",
      "display_name": "Python 3"
    },
    "language_info": {
      "name": "python"
    }
  },
  "cells": [
    {
      "cell_type": "markdown",
      "metadata": {
        "id": "view-in-github",
        "colab_type": "text"
      },
      "source": [
        "<a href=\"https://colab.research.google.com/github/AwkwaBear/EE-628/blob/main/sg13g2_LDO.ipynb\" target=\"_parent\"><img src=\"https://colab.research.google.com/assets/colab-badge.svg\" alt=\"Open In Colab\"/></a>"
      ]
    },
    {
      "cell_type": "code",
      "execution_count": null,
      "metadata": {
        "id": "IEkivK7Wlgm_"
      },
      "outputs": [],
      "source": [
        "import os\n",
        "\n",
        "# install conda.\n",
        "CONDA_PREFIX = os.environ.get('CONDA_PREFIX', None)\n",
        "if not CONDA_PREFIX:\n",
        "  !python -m pip install condacolab\n",
        "  import condacolab\n",
        "  condacolab.install()\n",
        "\n",
        "# install sky130a\n",
        "!conda install -c litex-hub open_pdks.sky130a\n",
        "\n",
        "# install ngspice\n",
        "!conda install -c conda-forge ngspice\n",
        "\n",
        "# Install Pytorch with cpu-only option.\n",
        "!conda install pytorch==1.13.1 torchvision==0.14.1 torchaudio==0.13.1 cpuonly -c pytorch\n",
        "\n",
        "# Check the version of Python (should be larger than 3.7) and Pytorch.\n",
        "import torch\n",
        "import sys\n",
        "print(\"Python version\")\n",
        "print (sys.version)\n",
        "\n",
        "!python -c \"import torch; print(torch.__version__)\"\n",
        "!python -c \"import torch; print(torch.version.cuda)\"\n",
        "\n",
        "# Install PyG to enable graph neural networks. We need to manually guide Colab to install the correct version of PyG based on which Pytorch version we have installed\n",
        "# (https://colab.research.google.com/drive/17VFsRZeZa7rgtrQ39-RMiYIE0ePrSlgN?authuser=1#scrollTo=rFwf_0DrvXLv). In this case it is 1.13.1 with cpu-only option.\n",
        "!pip install torch-scatter -f https://pytorch-geometric.com/whl/torch-1.13.1+cpu.html\n",
        "!pip install torch-sparse -f https://pytorch-geometric.com/whl/torch-1.13.1+cpu.html\n",
        "!pip install torch-cluster -f https://pytorch-geometric.com/whl/torch-1.13.1+cpu.html\n",
        "!pip install torch-spline-conv -f https://pytorch-geometric.com/whl/torch-1.13.1+cpu.html\n",
        "!pip install torch-geometric\n",
        "\n",
        "# Check the version of PyG.\n",
        "import torch_geometric\n",
        "print(torch_geometric.__version__)\n",
        "\n",
        "# Install Gymnasium for the RL environment.\n",
        "!pip install gymnasium\n",
        "\n",
        "# Check Gymnasium version.\n",
        "import gymnasium as gym\n",
        "print(gym.__version__)\n",
        "\n",
        "# Install tabulate for showing simulation results nicely during the runtime later.\n",
        "!pip install tabulate\n",
        "\n",
        "# Similarly, check tabulate version.\n",
        "import tabulate\n",
        "print(tabulate.__version__)"
      ]
    }
  ]
}